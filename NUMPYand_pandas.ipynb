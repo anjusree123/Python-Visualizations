{
  "nbformat": 4,
  "nbformat_minor": 0,
  "metadata": {
    "colab": {
      "name": "NUMPYand pandas.ipynb",
      "provenance": [],
      "collapsed_sections": []
    },
    "kernelspec": {
      "name": "python3",
      "display_name": "Python 3"
    },
    "language_info": {
      "name": "python"
    }
  },
  "cells": [
    {
      "cell_type": "markdown",
      "metadata": {
        "id": "NMN-DMwEmZ24"
      },
      "source": [
        "NumPy is a wonderful Python package produced by Travis Oliphant, which\n",
        "has been created fundamentally for scientific computing. It helps handle large\n",
        "multidimensional arrays and matrices, along with a large library of high-level\n",
        "mathematical functions to operate on these arrays.A NumPy array would require much less memory to store the same amount of datacompared to a Python list, which helps in reading and writing from the array in afaster manner."
      ]
    },
    {
      "cell_type": "code",
      "metadata": {
        "colab": {
          "base_uri": "https://localhost:8080/"
        },
        "id": "HfnVEyW_mAmB",
        "outputId": "85cd39a7-cb27-4d34-d8f8-d7d9c375ecaf"
      },
      "source": [
        "import numpy as np\n",
        "n_array = np.array([[0, 1, 2, 3],[4, 5, 6, 7],[8, 9, 10, 11]])\n",
        "n_array"
      ],
      "execution_count": null,
      "outputs": [
        {
          "output_type": "execute_result",
          "data": {
            "text/plain": [
              "array([[ 0,  1,  2,  3],\n",
              "       [ 4,  5,  6,  7],\n",
              "       [ 8,  9, 10, 11]])"
            ]
          },
          "metadata": {
            "tags": []
          },
          "execution_count": 2
        }
      ]
    },
    {
      "cell_type": "markdown",
      "metadata": {
        "id": "ns2RgY21nG5X"
      },
      "source": [
        "A NumPy array object has a number of attributes, which help in giving information about the array."
      ]
    },
    {
      "cell_type": "code",
      "metadata": {
        "colab": {
          "base_uri": "https://localhost:8080/"
        },
        "id": "L8XOzoDgnA4e",
        "outputId": "ca0628d6-4ff5-40ef-cf4c-c6be4ddc999b"
      },
      "source": [
        "n_array.ndim#gives dimension\n"
      ],
      "execution_count": null,
      "outputs": [
        {
          "output_type": "execute_result",
          "data": {
            "text/plain": [
              "2"
            ]
          },
          "metadata": {
            "tags": []
          },
          "execution_count": 5
        }
      ]
    },
    {
      "cell_type": "code",
      "metadata": {
        "id": "vavsgsu8nl5P"
      },
      "source": [
        "n_array.size\n"
      ],
      "execution_count": null,
      "outputs": []
    },
    {
      "cell_type": "code",
      "metadata": {
        "id": "Knc6gfzGnoxl"
      },
      "source": [
        "n_array.shape\n"
      ],
      "execution_count": null,
      "outputs": []
    },
    {
      "cell_type": "code",
      "metadata": {
        "id": "2_H2K6hPnqm3"
      },
      "source": [
        "n_array.dtype.name"
      ],
      "execution_count": null,
      "outputs": []
    },
    {
      "cell_type": "markdown",
      "metadata": {
        "id": "JcywQPbNoE-u"
      },
      "source": [
        "Indexing and slicing"
      ]
    },
    {
      "cell_type": "code",
      "metadata": {
        "colab": {
          "base_uri": "https://localhost:8080/"
        },
        "id": "MGgwBWNeoOgv",
        "outputId": "9bf1b8e2-3d3c-44f3-9b68-6ac913c687e6"
      },
      "source": [
        "n_array[0,1]#first array second value\n"
      ],
      "execution_count": null,
      "outputs": [
        {
          "output_type": "execute_result",
          "data": {
            "text/plain": [
              "array([0, 1, 2])"
            ]
          },
          "metadata": {
            "tags": []
          },
          "execution_count": 6
        }
      ]
    },
    {
      "cell_type": "code",
      "metadata": {
        "id": "XD8d243_qAzu"
      },
      "source": [
        "n_array[ 0 , 0:3 ]#The 0:3 value selects the first three values of the first row."
      ],
      "execution_count": null,
      "outputs": []
    },
    {
      "cell_type": "markdown",
      "metadata": {
        "id": "10aHg5qZqOEV"
      },
      "source": [
        "The pandas library is an open source Python library, specially designed for data\n",
        "analysis. It has been built on NumPy and makes it easy to handle data. NumPy is a fairly low-level tool that handles matrices really well.The pandas library brings the richness of R in the world of Python to handle data. It\n",
        "has efficient data structures to process data, perform fast joins, and read data from various sources, to name a few."
      ]
    },
    {
      "cell_type": "markdown",
      "metadata": {
        "id": "DtaXtEdIqeVl"
      },
      "source": [
        "The pandas library essentially has three data structures:\n",
        "1. Series\n",
        "2. DataFrame\n",
        "3. Panel\n",
        "\n",
        "\n",
        "\n",
        "\n",
        "![pic2.png](data:image/png;base64,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)"
      ]
    },
    {
      "cell_type": "code",
      "metadata": {
        "id": "7gH5x5U5qptE"
      },
      "source": [
        "import pandas as pd\n"
      ],
      "execution_count": null,
      "outputs": []
    },
    {
      "cell_type": "markdown",
      "metadata": {
        "id": "LYhXd6F52EFb"
      },
      "source": [
        "Series is a one-dimensional array like structure with homogeneous data. For example, the following series is a collection of integers 10, 23, 56, …\n",
        "\n",
        "**Syntax**\n",
        "\n",
        "pandas.Series( data, index, dtype, copy)\n",
        "\n",
        "\n",
        "DataFrame is a two-dimensional array with heterogeneous data. For example\n",
        "\n",
        "**Syntax**\n",
        "pandas.DataFrame( data, index, columns, dtype, copy)\n",
        "\n",
        "Panel is a three-dimensional data structure with heterogeneous data. It is hard to represent the panel in graphical representation. But a panel can be illustrated as a container of DataFrame.\n",
        "\n",
        "**Syntax**\n",
        "pandas.Panel(data, items, major_axis, minor_axis, dtype, copy)"
      ]
    },
    {
      "cell_type": "markdown",
      "metadata": {
        "id": "zYnp_weEn8kH"
      },
      "source": [
        ""
      ]
    },
    {
      "cell_type": "code",
      "metadata": {
        "colab": {
          "base_uri": "https://localhost:8080/"
        },
        "id": "cM6Twu2b3KN9",
        "outputId": "6180664d-e175-4612-e85a-a7ed89804985"
      },
      "source": [
        "#import the pandas library and aliasing as pd\n",
        "import pandas as pd\n",
        "import numpy as np\n",
        "data = np.array(['a','b','c','d'])\n",
        "s = pd.Series(data)\n",
        "print(s)"
      ],
      "execution_count": null,
      "outputs": [
        {
          "output_type": "stream",
          "text": [
            "0    a\n",
            "1    b\n",
            "2    c\n",
            "3    d\n",
            "dtype: object\n"
          ],
          "name": "stdout"
        }
      ]
    },
    {
      "cell_type": "code",
      "metadata": {
        "colab": {
          "base_uri": "https://localhost:8080/"
        },
        "id": "5DuPRkyE3b0v",
        "outputId": "558c9f41-cd6d-492e-bf75-913ddd53b831"
      },
      "source": [
        "import pandas as pd\n",
        "data = [1,2,3,4,5]\n",
        "df = pd.DataFrame(data)\n",
        "print(df)"
      ],
      "execution_count": null,
      "outputs": [
        {
          "output_type": "stream",
          "text": [
            "   0\n",
            "0  1\n",
            "1  2\n",
            "2  3\n",
            "3  4\n",
            "4  5\n"
          ],
          "name": "stdout"
        }
      ]
    },
    {
      "cell_type": "markdown",
      "metadata": {
        "id": "rrE2YPRfgeBU"
      },
      "source": [
        "**Random sampling in numpy**\n",
        "\n",
        "The random is a module present in the NumPy library. This module contains the functions which are used for generating random numbers. This module contains some simple random data generation methods, some permutation and distribution functions, and random generator function\n",
        "numpy.random.random() is one of the function for doing random sampling in numpy. It returns an array of specified shape and fills it with random floats in the half-open interval [0.0, 1.0).\n",
        "\n",
        "\n",
        "Syntax : numpy.random.random(size=None)\n",
        "\n",
        "Parameters :\n",
        "size : [int or tuple of ints, optional] Output shape. If the given shape is, e.g., (m, n, k), then m * n * k samples are drawn. Default is None, in which case a single value is returned."
      ]
    },
    {
      "cell_type": "code",
      "metadata": {
        "colab": {
          "base_uri": "https://localhost:8080/"
        },
        "id": "M8ao1ZSPhAB6",
        "outputId": "69b43432-c146-4de8-f933-0cb8a69ae97e"
      },
      "source": [
        "import numpy as np\n",
        "  \n",
        "  \n",
        "# output array\n",
        "out_arr = np.random.random(size = 3)\n",
        "print (\"Output 1D Array filled with random floats : \", out_arr) "
      ],
      "execution_count": null,
      "outputs": [
        {
          "output_type": "stream",
          "text": [
            "Output 1D Array filled with random floats :  [0.43066574 0.65831463 0.92431291]\n"
          ],
          "name": "stdout"
        }
      ]
    },
    {
      "cell_type": "code",
      "metadata": {
        "colab": {
          "base_uri": "https://localhost:8080/"
        },
        "id": "16oyqEWMheXt",
        "outputId": "cf50b1ab-c907-4ba6-d129-c1bd35c8c565"
      },
      "source": [
        "import numpy as np  \n",
        "a=np.random.rand(5,2)  \n",
        "a  "
      ],
      "execution_count": null,
      "outputs": [
        {
          "output_type": "execute_result",
          "data": {
            "text/plain": [
              "array([[0.32996981, 0.54197466],\n",
              "       [0.22918874, 0.13969532],\n",
              "       [0.40685546, 0.70409547],\n",
              "       [0.0805784 , 0.01156079],\n",
              "       [0.06436072, 0.16312923]])"
            ]
          },
          "metadata": {
            "tags": []
          },
          "execution_count": 2
        }
      ]
    },
    {
      "cell_type": "markdown",
      "metadata": {
        "id": "-kS4wLPNlNc9"
      },
      "source": [
        "**Normal Distribution**\n",
        "\n",
        "The Normal Distribution is one of the most important distributions.\n",
        "It is also called the Gaussian Distribution after the German mathematician Carl Friedrich Gauss.It fits the probability distribution of many events, eg. IQ Scores, Heartbeat etc.\n",
        "Use the random.normal() method to get a Normal Data Distribution.\n",
        "It has three parameters:\n",
        "\n",
        "loc - (Mean) where the peak of the bell exists.\n",
        "\n",
        "scale - (Standard Deviation) how flat the graph distribution should be.\n",
        "\n",
        "size - The shape of the returned array."
      ]
    },
    {
      "cell_type": "code",
      "metadata": {
        "colab": {
          "base_uri": "https://localhost:8080/"
        },
        "id": "nJBzB0QclbmO",
        "outputId": "2059cbf2-c034-432e-a0c2-c3acc22a45ac"
      },
      "source": [
        "import numpy as np  \n",
        "a=np.random.normal(loc=1, scale=2, size=(2, 3)) \n",
        "a  \n",
        "\n"
      ],
      "execution_count": null,
      "outputs": [
        {
          "output_type": "execute_result",
          "data": {
            "text/plain": [
              "array([[ 4.69427035,  0.62443453,  1.06084469],\n",
              "       [ 0.15212411, -0.05393682,  0.9097047 ]])"
            ]
          },
          "metadata": {
            "tags": []
          },
          "execution_count": 5
        }
      ]
    },
    {
      "cell_type": "markdown",
      "metadata": {
        "id": "h7c2gUGunCUh"
      },
      "source": [
        "**numpy.random.randn()**\n",
        "\n",
        "The numpy.random.randn() function creates an array of specified shape and fills it with random values as per standard normal distribution.\n",
        "\n",
        "If positive arguments are provided, randn generates an array of shape (d0, d1, …, dn), filled with random floats sampled from a univariate “normal” (Gaussian) distribution of mean 0 and variance 1 (if any of the d_i are floats, they are first converted to integers by truncation). A single float randomly sampled from the distribution is returned if no argument is provided."
      ]
    },
    {
      "cell_type": "code",
      "metadata": {
        "colab": {
          "base_uri": "https://localhost:8080/"
        },
        "id": "J8zzHpAAnlkX",
        "outputId": "224b4092-9ec9-45bd-e917-2144e317ae06"
      },
      "source": [
        "   \n",
        "import numpy as np\n",
        "   \n",
        "# 3D Array     \n",
        "array = np.random.randn(2, 2 ,2)\n",
        "print(\"3D Array filled with random values : \\n\", array);"
      ],
      "execution_count": 7,
      "outputs": [
        {
          "output_type": "stream",
          "text": [
            "3D Array filled with random values : \n",
            " [[[ 0.59811646  0.12499527]\n",
            "  [-2.41806457  0.95848084]]\n",
            "\n",
            " [[-1.62940341 -2.7512775 ]\n",
            "  [ 0.2729014   1.70458731]]]\n"
          ],
          "name": "stdout"
        }
      ]
    },
    {
      "cell_type": "markdown",
      "metadata": {
        "id": "GqaqfHV9igSM"
      },
      "source": [
        "**numpy.arrange()**\n",
        "\n",
        "numpy.arange() is an inbuilt numpy function that returns an ndarray object containing evenly spaced values within a defined interval. For instance, you want to create values from 1 to 10; you can use numpy.arange() function.\n",
        "\n",
        "Syntax:\n",
        "\n",
        "numpy.arange(start, stop,step) "
      ]
    },
    {
      "cell_type": "code",
      "metadata": {
        "colab": {
          "base_uri": "https://localhost:8080/"
        },
        "id": "hZK1S1nHizrN",
        "outputId": "28330348-d8a6-4b14-d8ee-acc0b186bc75"
      },
      "source": [
        "import numpy as np\n",
        "np.arange(1, 11)"
      ],
      "execution_count": null,
      "outputs": [
        {
          "output_type": "execute_result",
          "data": {
            "text/plain": [
              "array([ 1,  2,  3,  4,  5,  6,  7,  8,  9, 10])"
            ]
          },
          "metadata": {
            "tags": []
          },
          "execution_count": 4
        }
      ]
    },
    {
      "cell_type": "code",
      "metadata": {
        "colab": {
          "base_uri": "https://localhost:8080/"
        },
        "id": "16lZ1KWLm-xi",
        "outputId": "83eae725-f88d-4e59-ca9e-8a36146ad801"
      },
      "source": [
        "np.arange(1, 14, 4)"
      ],
      "execution_count": 6,
      "outputs": [
        {
          "output_type": "execute_result",
          "data": {
            "text/plain": [
              "array([ 1,  5,  9, 13])"
            ]
          },
          "metadata": {
            "tags": []
          },
          "execution_count": 6
        }
      ]
    }
  ]
}